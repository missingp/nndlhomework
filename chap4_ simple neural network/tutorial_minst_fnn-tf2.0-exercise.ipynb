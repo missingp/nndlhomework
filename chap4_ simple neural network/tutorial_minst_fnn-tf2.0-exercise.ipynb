{
 "cells": [
  {
   "cell_type": "markdown",
   "metadata": {},
   "source": [
    "## 准备数据"
   ]
  },
  {
   "cell_type": "code",
   "execution_count": 1,
   "metadata": {},
   "outputs": [],
   "source": [
    "import os\n",
    "import numpy as np\n",
    "import tensorflow as tf\n",
    "from tensorflow import keras\n",
    "from tensorflow.keras import layers, optimizers, datasets\n",
    "\n",
    "os.environ['TF_CPP_MIN_LOG_LEVEL'] = '2'  # or any {'0', '1', '2'}\n",
    "\n",
    "def mnist_dataset():\n",
    "    (x, y), (x_test, y_test) = datasets.mnist.load_data()\n",
    "    #normalize\n",
    "    x = x/255.0\n",
    "    x_test = x_test/255.0\n",
    "    \n",
    "    return (x, y), (x_test, y_test)"
   ]
  },
  {
   "cell_type": "code",
   "execution_count": 2,
   "metadata": {},
   "outputs": [
    {
     "name": "stdout",
     "output_type": "stream",
     "text": [
      "[(1, 'a'), (2, 'b'), (3, 'c'), (4, 'd')]\n"
     ]
    }
   ],
   "source": [
    "print(list(zip([1, 2, 3, 4], ['a', 'b', 'c', 'd'])))"
   ]
  },
  {
   "cell_type": "markdown",
   "metadata": {},
   "source": [
    "## 建立模型"
   ]
  },
  {
   "cell_type": "code",
   "execution_count": 11,
   "metadata": {},
   "outputs": [],
   "source": [
    "class myModel:\n",
    "    def __init__(self):\n",
    "        ####################\n",
    "        '''声明模型对应的参数'''\n",
    "        ####################\n",
    "        self.W1 = tf.Variable(tf.random.normal([784, 128], stddev=0.1))\n",
    "        self.b1 = tf.Variable(tf.zeros([128]))\n",
    "        self.W2 = tf.Variable(tf.random.normal([128, 10], stddev=0.1))\n",
    "        self.b2 = tf.Variable(tf.zeros([10]))\n",
    "    def __call__(self, x):\n",
    "        ####################\n",
    "        '''实现模型函数体，返回未归一化的logits'''\n",
    "        ####################\n",
    "        x = tf.reshape(x, [-1, 784])  # Flatten\n",
    "        h1 = tf.nn.relu(tf.matmul(x, self.W1) + self.b1)\n",
    "        logits = tf.matmul(h1, self.W2) + self.b2\n",
    "        return logits\n",
    "        \n",
    "model = myModel()\n",
    "\n",
    "optimizer = optimizers.Adam()"
   ]
  },
  {
   "cell_type": "markdown",
   "metadata": {},
   "source": [
    "## 计算 loss"
   ]
  },
  {
   "cell_type": "code",
   "execution_count": 5,
   "metadata": {},
   "outputs": [],
   "source": [
    "@tf.function\n",
    "def compute_loss(logits, labels):\n",
    "    return tf.reduce_mean(\n",
    "        tf.nn.sparse_softmax_cross_entropy_with_logits(\n",
    "            logits=logits, labels=labels))\n",
    "\n",
    "@tf.function\n",
    "def compute_accuracy(logits, labels):\n",
    "    predictions = tf.argmax(logits, axis=1)\n",
    "    return tf.reduce_mean(tf.cast(tf.equal(predictions, labels), tf.float32))\n",
    "\n",
    "@tf.function\n",
    "def train_one_step(model, optimizer, x, y):\n",
    "    with tf.GradientTape() as tape:\n",
    "        logits = model(x)\n",
    "        loss = compute_loss(logits, y)\n",
    "\n",
    "    # compute gradient\n",
    "    trainable_vars = [model.W1, model.W2, model.b1, model.b2]\n",
    "    grads = tape.gradient(loss, trainable_vars)\n",
    "    for g, v in zip(grads, trainable_vars):\n",
    "        v.assign_sub(0.01*g)\n",
    "\n",
    "    accuracy = compute_accuracy(logits, y)\n",
    "\n",
    "    # loss and accuracy is scalar tensor\n",
    "    return loss, accuracy\n",
    "\n",
    "@tf.function\n",
    "def test(model, x, y):\n",
    "    logits = model(x)\n",
    "    loss = compute_loss(logits, y)\n",
    "    accuracy = compute_accuracy(logits, y)\n",
    "    return loss, accuracy"
   ]
  },
  {
   "cell_type": "markdown",
   "metadata": {},
   "source": [
    "## 实际训练"
   ]
  },
  {
   "cell_type": "code",
   "execution_count": 14,
   "metadata": {},
   "outputs": [
    {
     "name": "stdout",
     "output_type": "stream",
     "text": [
      "epoch 0 : loss 1.5623729 ; accuracy 0.57496667\n",
      "epoch 1 : loss 1.5567958 ; accuracy 0.5772667\n",
      "epoch 2 : loss 1.5512521 ; accuracy 0.57985\n",
      "epoch 3 : loss 1.5457412 ; accuracy 0.58205\n",
      "epoch 4 : loss 1.5402632 ; accuracy 0.58428335\n",
      "epoch 5 : loss 1.5348176 ; accuracy 0.58648336\n",
      "epoch 6 : loss 1.5294043 ; accuracy 0.5891\n",
      "epoch 7 : loss 1.5240232 ; accuracy 0.5911667\n",
      "epoch 8 : loss 1.5186743 ; accuracy 0.5933\n",
      "epoch 9 : loss 1.5133568 ; accuracy 0.59533334\n",
      "epoch 10 : loss 1.508071 ; accuracy 0.59711665\n",
      "epoch 11 : loss 1.5028169 ; accuracy 0.59926665\n",
      "epoch 12 : loss 1.4975942 ; accuracy 0.60171664\n",
      "epoch 13 : loss 1.4924026 ; accuracy 0.60385\n",
      "epoch 14 : loss 1.4872425 ; accuracy 0.6059333\n",
      "epoch 15 : loss 1.4821132 ; accuracy 0.60775\n",
      "epoch 16 : loss 1.4770155 ; accuracy 0.60973334\n",
      "epoch 17 : loss 1.4719479 ; accuracy 0.6116833\n",
      "epoch 18 : loss 1.4669101 ; accuracy 0.61396664\n",
      "epoch 19 : loss 1.4619026 ; accuracy 0.61615\n",
      "epoch 20 : loss 1.4569253 ; accuracy 0.61828333\n",
      "epoch 21 : loss 1.4519774 ; accuracy 0.62035\n",
      "epoch 22 : loss 1.447059 ; accuracy 0.62198335\n",
      "epoch 23 : loss 1.4421703 ; accuracy 0.62365\n",
      "epoch 24 : loss 1.4373106 ; accuracy 0.62545\n",
      "epoch 25 : loss 1.4324799 ; accuracy 0.62738335\n",
      "epoch 26 : loss 1.4276781 ; accuracy 0.62925\n",
      "epoch 27 : loss 1.4229052 ; accuracy 0.63105\n",
      "epoch 28 : loss 1.4181615 ; accuracy 0.63308334\n",
      "epoch 29 : loss 1.4134467 ; accuracy 0.63476664\n",
      "epoch 30 : loss 1.4087602 ; accuracy 0.63665\n",
      "epoch 31 : loss 1.404102 ; accuracy 0.6386833\n",
      "epoch 32 : loss 1.3994722 ; accuracy 0.6404167\n",
      "epoch 33 : loss 1.3948703 ; accuracy 0.6422833\n",
      "epoch 34 : loss 1.3902962 ; accuracy 0.6440833\n",
      "epoch 35 : loss 1.3857497 ; accuracy 0.6458167\n",
      "epoch 36 : loss 1.3812308 ; accuracy 0.64751667\n",
      "epoch 37 : loss 1.3767391 ; accuracy 0.64915\n",
      "epoch 38 : loss 1.3722748 ; accuracy 0.65068334\n",
      "epoch 39 : loss 1.3678377 ; accuracy 0.65215\n",
      "epoch 40 : loss 1.3634276 ; accuracy 0.6536833\n",
      "epoch 41 : loss 1.3590446 ; accuracy 0.6553\n",
      "epoch 42 : loss 1.3546885 ; accuracy 0.6566833\n",
      "epoch 43 : loss 1.3503591 ; accuracy 0.65815\n",
      "epoch 44 : loss 1.346056 ; accuracy 0.6598\n",
      "epoch 45 : loss 1.3417791 ; accuracy 0.6613\n",
      "epoch 46 : loss 1.3375283 ; accuracy 0.66256666\n",
      "epoch 47 : loss 1.3333037 ; accuracy 0.66403335\n",
      "epoch 48 : loss 1.329105 ; accuracy 0.66578335\n",
      "epoch 49 : loss 1.3249323 ; accuracy 0.66718334\n",
      "test loss 1.3028252 ; accuracy 0.6774\n"
     ]
    }
   ],
   "source": [
    "train_data, test_data = mnist_dataset()\n",
    "for epoch in range(50):\n",
    "    loss, accuracy = train_one_step(model, optimizer, \n",
    "                                    tf.constant(train_data[0], dtype=tf.float32), \n",
    "                                    tf.constant(train_data[1], dtype=tf.int64))\n",
    "    print('epoch', epoch, ': loss', loss.numpy(), '; accuracy', accuracy.numpy())\n",
    "loss, accuracy = test(model, \n",
    "                      tf.constant(test_data[0], dtype=tf.float32), \n",
    "                      tf.constant(test_data[1], dtype=tf.int64))\n",
    "\n",
    "print('test loss', loss.numpy(), '; accuracy', accuracy.numpy())"
   ]
  }
 ],
 "metadata": {
  "kernelspec": {
   "display_name": "py39",
   "language": "python",
   "name": "python3"
  },
  "language_info": {
   "codemirror_mode": {
    "name": "ipython",
    "version": 3
   },
   "file_extension": ".py",
   "mimetype": "text/x-python",
   "name": "python",
   "nbconvert_exporter": "python",
   "pygments_lexer": "ipython3",
   "version": "3.9.19"
  }
 },
 "nbformat": 4,
 "nbformat_minor": 2
}
